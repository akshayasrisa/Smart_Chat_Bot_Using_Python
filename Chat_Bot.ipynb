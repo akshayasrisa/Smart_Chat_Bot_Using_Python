{
  "cells": [
    {
      "cell_type": "code",
      "execution_count": 69,
      "metadata": {
        "id": "GVknLZMFrP24"
      },
      "outputs": [],
      "source": [
        "#Smart Chat Bot Program "
      ]
    },
    {
      "cell_type": "code",
      "execution_count": 70,
      "metadata": {
        "colab": {
          "base_uri": "https://localhost:8080/"
        },
        "id": "Nt33d3kGrhpU",
        "outputId": "41594ecc-ed2d-492b-9203-2e89832ca7bc"
      },
      "outputs": [
        {
          "output_type": "stream",
          "name": "stdout",
          "text": [
            "Requirement already satisfied: nltk in /usr/local/lib/python3.7/dist-packages (3.2.5)\n",
            "Requirement already satisfied: six in /usr/local/lib/python3.7/dist-packages (from nltk) (1.15.0)\n"
          ]
        }
      ],
      "source": [
        "pip install nltk"
      ]
    },
    {
      "cell_type": "code",
      "execution_count": 71,
      "metadata": {
        "id": "1ki5QDmCrhr3",
        "colab": {
          "base_uri": "https://localhost:8080/"
        },
        "outputId": "454a023e-671d-48ee-9c88-3723fe48a4bf"
      },
      "outputs": [
        {
          "output_type": "stream",
          "name": "stdout",
          "text": [
            "Requirement already satisfied: newspaper3k in /usr/local/lib/python3.7/dist-packages (0.2.8)\n",
            "Requirement already satisfied: jieba3k>=0.35.1 in /usr/local/lib/python3.7/dist-packages (from newspaper3k) (0.35.1)\n",
            "Requirement already satisfied: tldextract>=2.0.1 in /usr/local/lib/python3.7/dist-packages (from newspaper3k) (3.1.2)\n",
            "Requirement already satisfied: cssselect>=0.9.2 in /usr/local/lib/python3.7/dist-packages (from newspaper3k) (1.1.0)\n",
            "Requirement already satisfied: feedparser>=5.2.1 in /usr/local/lib/python3.7/dist-packages (from newspaper3k) (6.0.8)\n",
            "Requirement already satisfied: nltk>=3.2.1 in /usr/local/lib/python3.7/dist-packages (from newspaper3k) (3.2.5)\n",
            "Requirement already satisfied: beautifulsoup4>=4.4.1 in /usr/local/lib/python3.7/dist-packages (from newspaper3k) (4.6.3)\n",
            "Requirement already satisfied: PyYAML>=3.11 in /usr/local/lib/python3.7/dist-packages (from newspaper3k) (3.13)\n",
            "Requirement already satisfied: Pillow>=3.3.0 in /usr/local/lib/python3.7/dist-packages (from newspaper3k) (7.1.2)\n",
            "Requirement already satisfied: python-dateutil>=2.5.3 in /usr/local/lib/python3.7/dist-packages (from newspaper3k) (2.8.2)\n",
            "Requirement already satisfied: requests>=2.10.0 in /usr/local/lib/python3.7/dist-packages (from newspaper3k) (2.23.0)\n",
            "Requirement already satisfied: lxml>=3.6.0 in /usr/local/lib/python3.7/dist-packages (from newspaper3k) (4.2.6)\n",
            "Requirement already satisfied: feedfinder2>=0.0.4 in /usr/local/lib/python3.7/dist-packages (from newspaper3k) (0.0.4)\n",
            "Requirement already satisfied: tinysegmenter==0.3 in /usr/local/lib/python3.7/dist-packages (from newspaper3k) (0.3)\n",
            "Requirement already satisfied: six in /usr/local/lib/python3.7/dist-packages (from feedfinder2>=0.0.4->newspaper3k) (1.15.0)\n",
            "Requirement already satisfied: sgmllib3k in /usr/local/lib/python3.7/dist-packages (from feedparser>=5.2.1->newspaper3k) (1.0.0)\n",
            "Requirement already satisfied: idna<3,>=2.5 in /usr/local/lib/python3.7/dist-packages (from requests>=2.10.0->newspaper3k) (2.10)\n",
            "Requirement already satisfied: certifi>=2017.4.17 in /usr/local/lib/python3.7/dist-packages (from requests>=2.10.0->newspaper3k) (2021.10.8)\n",
            "Requirement already satisfied: chardet<4,>=3.0.2 in /usr/local/lib/python3.7/dist-packages (from requests>=2.10.0->newspaper3k) (3.0.4)\n",
            "Requirement already satisfied: urllib3!=1.25.0,!=1.25.1,<1.26,>=1.21.1 in /usr/local/lib/python3.7/dist-packages (from requests>=2.10.0->newspaper3k) (1.24.3)\n",
            "Requirement already satisfied: requests-file>=1.4 in /usr/local/lib/python3.7/dist-packages (from tldextract>=2.0.1->newspaper3k) (1.5.1)\n",
            "Requirement already satisfied: filelock>=3.0.8 in /usr/local/lib/python3.7/dist-packages (from tldextract>=2.0.1->newspaper3k) (3.4.0)\n"
          ]
        }
      ],
      "source": [
        "pip install newspaper3k"
      ]
    },
    {
      "cell_type": "code",
      "execution_count": 72,
      "metadata": {
        "id": "TKoBcIxBrhul"
      },
      "outputs": [],
      "source": [
        "#Import Libraries\n",
        "from newspaper import Article\n",
        "import random\n",
        "import string\n",
        "import nltk\n",
        "from sklearn.feature_extraction.text import CountVectorizer\n",
        "from sklearn.metrics.pairwise import cosine_similarity\n",
        "import numpy as np\n",
        "import warnings\n",
        "warnings.filterwarnings('ignore')"
      ]
    },
    {
      "cell_type": "code",
      "execution_count": 73,
      "metadata": {
        "id": "ILnbfXnArhw0",
        "colab": {
          "base_uri": "https://localhost:8080/"
        },
        "outputId": "9729b015-aadd-4ba0-d6e0-ccd0243513ee"
      },
      "outputs": [
        {
          "output_type": "execute_result",
          "data": {
            "text/plain": [
              "True"
            ]
          },
          "metadata": {},
          "execution_count": 73
        }
      ],
      "source": [
        "#Install punkt package\n",
        "nltk.download('punkt',quiet=True)"
      ]
    },
    {
      "cell_type": "code",
      "execution_count": 74,
      "metadata": {
        "id": "FPJ_PvP-sGRh"
      },
      "outputs": [],
      "source": [
        "#Extract Article\n",
        "article = Article('https://www.cdc.gov/kidneydisease/basics.html')\n",
        "article.download()\n",
        "article.parse()\n",
        "article.nlp()\n",
        "corpus = article.text"
      ]
    },
    {
      "cell_type": "markdown",
      "source": [
        ""
      ],
      "metadata": {
        "id": "UGY27VcSAsDN"
      }
    },
    {
      "cell_type": "code",
      "execution_count": 75,
      "metadata": {
        "id": "rQTQmJ0rsGUC",
        "colab": {
          "base_uri": "https://localhost:8080/"
        },
        "outputId": "16d660f9-b9d7-4b69-8eba-83d6baf882ba"
      },
      "outputs": [
        {
          "output_type": "stream",
          "name": "stdout",
          "text": [
            "Your kidneys, each just the size of a computer mouse, filter all the blood in your body every 30 minutes. They work hard to remove wastes, toxins, and excess fluid. They also help control blood pressure, stimulate production of red blood cells, keep your bones healthy, and regulate blood chemicals that are essential to life.\n",
            "\n",
            "Kidneys that function properly are critical for maintaining good health, however, more than one in seven American adults are estimated to have chronic kidney disease (CKD).\n",
            "\n",
            "About Chronic Kidney Disease\n",
            "\n",
            "CKD is a condition in which the kidneys are damaged and cannot filter blood as well as they should. Because of this, excess fluid and waste from blood remain in the body and may cause other health problems, such as heart disease and stroke.\n",
            "\n",
            "More than 1 in 7 15% of US adults are estimated to have chronic kidney disease, that is about 37 million people.\n",
            "\n",
            "Some other health consequences of CKD include:\n",
            "\n",
            "Anemia or low number of red blood cells\n",
            "\n",
            "Increased occurrence of infections\n",
            "\n",
            "Low calcium levels, high potassium levels, and high phosphorus levels in the blood\n",
            "\n",
            "Loss of appetite or eating less\n",
            "\n",
            "Depression or lower quality of life\n",
            "\n",
            "CKD has varying levels of seriousness. It usually gets worse over time though treatment has been shown to slow progression. If left untreated, CKD can progress to kidney failure and early cardiovascular disease. When the kidneys stop working, dialysis or kidney transplant is needed for survival. Kidney failure treated with dialysis or kidney transplant is called end-stage renal disease (ESRD). Learn more about ESRD.\n",
            "\n",
            "Not all patients with kidney disease progress to kidney failure. To help prevent CKD and lower the risk for kidney failure, control risk factors for CKD, get tested yearly, make lifestyle changes, take medicine as needed, and see your health care team regularly.\n"
          ]
        }
      ],
      "source": [
        "#Print Article Text\n",
        "print(corpus)"
      ]
    },
    {
      "cell_type": "code",
      "execution_count": 76,
      "metadata": {
        "id": "RiNQEw6JsGYJ"
      },
      "outputs": [],
      "source": [
        "#Tokenization\n",
        "text = corpus\n",
        "sentence_list = nltk.sent_tokenize(text)  #List of Sentences\n",
        "\n"
      ]
    },
    {
      "cell_type": "code",
      "execution_count": 77,
      "metadata": {
        "id": "aBZ8WTfHsGar",
        "colab": {
          "base_uri": "https://localhost:8080/"
        },
        "outputId": "ca80e379-2f81-4792-8162-42e11b124119"
      },
      "outputs": [
        {
          "output_type": "stream",
          "name": "stdout",
          "text": [
            "['Your kidneys, each just the size of a computer mouse, filter all the blood in your body every 30 minutes.', 'They work hard to remove wastes, toxins, and excess fluid.', 'They also help control blood pressure, stimulate production of red blood cells, keep your bones healthy, and regulate blood chemicals that are essential to life.', 'Kidneys that function properly are critical for maintaining good health, however, more than one in seven American adults are estimated to have chronic kidney disease (CKD).', 'About Chronic Kidney Disease\\n\\nCKD is a condition in which the kidneys are damaged and cannot filter blood as well as they should.', 'Because of this, excess fluid and waste from blood remain in the body and may cause other health problems, such as heart disease and stroke.', 'More than 1 in 7 15% of US adults are estimated to have chronic kidney disease, that is about 37 million people.', 'Some other health consequences of CKD include:\\n\\nAnemia or low number of red blood cells\\n\\nIncreased occurrence of infections\\n\\nLow calcium levels, high potassium levels, and high phosphorus levels in the blood\\n\\nLoss of appetite or eating less\\n\\nDepression or lower quality of life\\n\\nCKD has varying levels of seriousness.', 'It usually gets worse over time though treatment has been shown to slow progression.', 'If left untreated, CKD can progress to kidney failure and early cardiovascular disease.', 'When the kidneys stop working, dialysis or kidney transplant is needed for survival.', 'Kidney failure treated with dialysis or kidney transplant is called end-stage renal disease (ESRD).', 'Learn more about ESRD.', 'Not all patients with kidney disease progress to kidney failure.', 'To help prevent CKD and lower the risk for kidney failure, control risk factors for CKD, get tested yearly, make lifestyle changes, take medicine as needed, and see your health care team regularly.']\n"
          ]
        }
      ],
      "source": [
        "#Print the List of Sentences\n",
        "print(sentence_list)"
      ]
    },
    {
      "cell_type": "code",
      "execution_count": 78,
      "metadata": {
        "id": "YwFPURy0sGdJ"
      },
      "outputs": [],
      "source": [
        "#Function to return random greeting responses for users\n",
        "def greeting_response(text):\n",
        "  text = text.lower()\n",
        "  bot_greetings = ['hi', 'hey', 'hello', 'hola'] #Bot Responses\n",
        "  user_greetings = ['hello', 'hey', 'hola', 'hi', 'whatsup'] \n",
        "\n",
        "  for word in text.split():\n",
        "    if word in user_greetings:\n",
        "      return random.choice(bot_greetings)\n",
        "\n"
      ]
    },
    {
      "cell_type": "code",
      "execution_count": 79,
      "metadata": {
        "id": "o8gShfghwZj5"
      },
      "outputs": [],
      "source": [
        "def index_sort(list_var):\n",
        "  length = len(list_var)\n",
        "  list_index = list(range(0, length))\n",
        "\n",
        "  x = list_var\n",
        "  for i in range(length):\n",
        "    for j in range(length):\n",
        "      if x[list_index[i]] > x[list_index[j]]:\n",
        "        #Swapping\n",
        "         temp = list_index[i]\n",
        "         list_index[i] = list_index[j]\n",
        "         list_index[j] = temp\n",
        "\n",
        "    return list_index\n",
        "\n",
        "\n",
        "\n"
      ]
    },
    {
      "cell_type": "code",
      "execution_count": 80,
      "metadata": {
        "id": "MmcxDIfpsGgN"
      },
      "outputs": [],
      "source": [
        "#Generate Bot Responses\n",
        "def bot_response(user_input):\n",
        "  user_input = user_input.lower()\n",
        "  sentence_list.append(user_input)\n",
        "  bot_response = ''\n",
        "  cm = CountVectorizer().fit_transform(sentence_list)\n",
        "  similarity_scores = cosine_similarity(cm[-1], cm)\n",
        "  similarity_scores_list = similarity_scores.flatten()\n",
        "  index = index_sort(similarity_scores_list)\n",
        "  index = index[1:]\n",
        "  response_flag = 0\n",
        "\n",
        "  j = 0\n",
        "  for i in range(len(index)):\n",
        "    if similarity_scores_list[index[i]] > 0.0:\n",
        "      bot_response = bot_response+' '+sentence_list[index[i]]\n",
        "      response_flag = 1\n",
        "      j = j+1\n",
        "    if j > 2:\n",
        "      break\n",
        "        \n",
        "  if response_flag == 0:\n",
        "    bot_response = bot_response+' '+\"I apologize, I dont understand that\"\n",
        "    \n",
        "  sentence_list.remove(user_input)\n",
        "\n",
        "  return bot_response"
      ]
    },
    {
      "cell_type": "code",
      "execution_count": 82,
      "metadata": {
        "colab": {
          "base_uri": "https://localhost:8080/"
        },
        "id": "Tzc_zTu7sGjH",
        "outputId": "89d11302-2bcb-46ef-c252-174d6e7278e1"
      },
      "outputs": [
        {
          "output_type": "stream",
          "name": "stdout",
          "text": [
            "Bot: I am a Doc Bot. I will answer your questions on Chronic Kidney Disease. If you want to exit, type Bye \n",
            "bye\n",
            "Bot: Hope to chat with you later\n"
          ]
        }
      ],
      "source": [
        "#Start Chatting\n",
        "print('Bot: I am a Doc Bot. I will answer your questions on Chronic Kidney Disease. If you want to exit, type Bye ')\n",
        "\n",
        "exit_list = ['exit', 'bye', 'see you later', 'quit', 'break']\n",
        "while(True):\n",
        "  user_input = input()\n",
        "  if user_input.lower() in exit_list:\n",
        "    print('Bot: Hope to chat with you later')\n",
        "    break\n",
        "  else:\n",
        "    if greeting_response(user_input) != None:\n",
        "      print('Bot: '+greeting_response(user_input))\n",
        "    else:\n",
        "      print('Bot: '+bot_response(user_input))"
      ]
    }
  ],
  "metadata": {
    "colab": {
      "collapsed_sections": [],
      "name": "Chat Bot.ipynb",
      "provenance": []
    },
    "kernelspec": {
      "display_name": "Python 3",
      "name": "python3"
    },
    "language_info": {
      "name": "python"
    }
  },
  "nbformat": 4,
  "nbformat_minor": 0
}